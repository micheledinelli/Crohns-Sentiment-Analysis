{
 "cells": [
  {
   "cell_type": "code",
   "execution_count": 14,
   "id": "af9c7006",
   "metadata": {},
   "outputs": [],
   "source": [
    "import praw\n",
    "from psaw import PushshiftAPI\n",
    "\n",
    "import datetime as dt\n",
    "\n",
    "import pandas as pd\n",
    "import numpy as np\n",
    "from IPython.display import display, Markdown, Latex\n",
    "\n",
    "from os import listdir\n",
    "from os.path import isfile, join\n",
    "import csv\n",
    "\n",
    "from tqdm.notebook import tqdm,tnrange\n",
    "import pickle\n",
    "\n",
    "import matplotlib.pyplot as plt\n",
    "import seaborn as sns"
   ]
  },
  {
   "cell_type": "code",
   "execution_count": 15,
   "id": "330bf168",
   "metadata": {},
   "outputs": [
    {
     "data": {
      "text/plain": [
       "Redditor(name='micheledinelli')"
      ]
     },
     "execution_count": 15,
     "metadata": {},
     "output_type": "execute_result"
    }
   ],
   "source": [
    "import import_ipynb\n",
    "from reddit_access import client_id, client_secret, password, user_agent, username\n",
    "\n",
    "#PSAW TO RETRIEVE IDs OF SUBMISSIONS\n",
    "api = PushshiftAPI()\n",
    "\n",
    "#PRAW TO RETRIEVE ACTUAL CONVERSATIONS\n",
    "reddit = praw.Reddit(client_id=client_id, \n",
    "                     client_secret=client_secret,\n",
    "                     password=password, \n",
    "                     user_agent=user_agent,\n",
    "                     username=username)\n",
    "\n",
    "reddit.user.me()"
   ]
  },
  {
   "cell_type": "code",
   "execution_count": 16,
   "id": "29b19076",
   "metadata": {},
   "outputs": [],
   "source": [
    "all_ids = pd.read_csv('all_ids_previous.csv')\n",
    "all_ids.drop(columns=['Unnamed: 0'], inplace=True)\n",
    "all_ids.dropna(inplace=True)"
   ]
  },
  {
   "cell_type": "code",
   "execution_count": 17,
   "id": "c083e47c",
   "metadata": {},
   "outputs": [
    {
     "data": {
      "application/vnd.jupyter.widget-view+json": {
       "model_id": "4e46646d0e8c48b1ad87ea6d53cb339e",
       "version_major": 2,
       "version_minor": 0
      },
      "text/plain": [
       "Loading comments:   0%|          | 0/40837 [00:00<?, ?it/s]"
      ]
     },
     "metadata": {},
     "output_type": "display_data"
    }
   ],
   "source": [
    "comments = []\n",
    "for id in tqdm (all_ids['id'], desc=\"Loading comments\"):\n",
    "    if id != str(0):\n",
    "        post = reddit.submission(id)\n",
    "        for comment in post.comments:\n",
    "            comments.append([comment.parent_id, comment.author, comment.score, comment.id, comment.subreddit, comment.body, comment.created])"
   ]
  },
  {
   "cell_type": "code",
   "execution_count": 18,
   "id": "4a79202b",
   "metadata": {},
   "outputs": [
    {
     "data": {
      "text/html": [
       "<div>\n",
       "<style scoped>\n",
       "    .dataframe tbody tr th:only-of-type {\n",
       "        vertical-align: middle;\n",
       "    }\n",
       "\n",
       "    .dataframe tbody tr th {\n",
       "        vertical-align: top;\n",
       "    }\n",
       "\n",
       "    .dataframe thead th {\n",
       "        text-align: right;\n",
       "    }\n",
       "</style>\n",
       "<table border=\"1\" class=\"dataframe\">\n",
       "  <thead>\n",
       "    <tr style=\"text-align: right;\">\n",
       "      <th></th>\n",
       "      <th>parent_id</th>\n",
       "      <th>author</th>\n",
       "      <th>score</th>\n",
       "      <th>id</th>\n",
       "      <th>subreddit</th>\n",
       "      <th>body</th>\n",
       "      <th>created</th>\n",
       "    </tr>\n",
       "  </thead>\n",
       "  <tbody>\n",
       "    <tr>\n",
       "      <th>0</th>\n",
       "      <td>t3_gusifm</td>\n",
       "      <td>KnifeyKnifey</td>\n",
       "      <td>7</td>\n",
       "      <td>fskxcj0</td>\n",
       "      <td>CrohnsDisease</td>\n",
       "      <td>For medication, I assume its because a lot of ...</td>\n",
       "      <td>2020-06-02 01:54:38</td>\n",
       "    </tr>\n",
       "    <tr>\n",
       "      <th>1</th>\n",
       "      <td>t3_gusifm</td>\n",
       "      <td>thesch</td>\n",
       "      <td>5</td>\n",
       "      <td>fskws56</td>\n",
       "      <td>CrohnsDisease</td>\n",
       "      <td>With the disclaimer that I obviously don't kno...</td>\n",
       "      <td>2020-06-02 01:49:28</td>\n",
       "    </tr>\n",
       "    <tr>\n",
       "      <th>2</th>\n",
       "      <td>t3_gusifm</td>\n",
       "      <td>JanekWinter</td>\n",
       "      <td>3</td>\n",
       "      <td>fskik46</td>\n",
       "      <td>CrohnsDisease</td>\n",
       "      <td>It varies from person to person, I stay away f...</td>\n",
       "      <td>2020-06-01 23:44:36</td>\n",
       "    </tr>\n",
       "    <tr>\n",
       "      <th>3</th>\n",
       "      <td>t3_gusifm</td>\n",
       "      <td>shantiaB</td>\n",
       "      <td>3</td>\n",
       "      <td>fskm7vg</td>\n",
       "      <td>CrohnsDisease</td>\n",
       "      <td>Definitely food journal</td>\n",
       "      <td>2020-06-02 00:15:44</td>\n",
       "    </tr>\n",
       "    <tr>\n",
       "      <th>4</th>\n",
       "      <td>t3_gusifm</td>\n",
       "      <td>kkolb7</td>\n",
       "      <td>2</td>\n",
       "      <td>fsko3ec</td>\n",
       "      <td>CrohnsDisease</td>\n",
       "      <td>watch out for bowel obstructions. That's what ...</td>\n",
       "      <td>2020-06-02 00:31:58</td>\n",
       "    </tr>\n",
       "  </tbody>\n",
       "</table>\n",
       "</div>"
      ],
      "text/plain": [
       "   parent_id        author  score       id      subreddit  \\\n",
       "0  t3_gusifm  KnifeyKnifey      7  fskxcj0  CrohnsDisease   \n",
       "1  t3_gusifm        thesch      5  fskws56  CrohnsDisease   \n",
       "2  t3_gusifm   JanekWinter      3  fskik46  CrohnsDisease   \n",
       "3  t3_gusifm      shantiaB      3  fskm7vg  CrohnsDisease   \n",
       "4  t3_gusifm        kkolb7      2  fsko3ec  CrohnsDisease   \n",
       "\n",
       "                                                body             created  \n",
       "0  For medication, I assume its because a lot of ... 2020-06-02 01:54:38  \n",
       "1  With the disclaimer that I obviously don't kno... 2020-06-02 01:49:28  \n",
       "2  It varies from person to person, I stay away f... 2020-06-01 23:44:36  \n",
       "3                            Definitely food journal 2020-06-02 00:15:44  \n",
       "4  watch out for bowel obstructions. That's what ... 2020-06-02 00:31:58  "
      ]
     },
     "execution_count": 18,
     "metadata": {},
     "output_type": "execute_result"
    }
   ],
   "source": [
    "df_comments = pd.DataFrame(comments, columns=['parent_id', 'author', 'score', 'id', 'subreddit', 'body', 'created'])\n",
    "\n",
    "df_comments['created'] = df_comments['created'].apply(lambda x : dt.datetime.fromtimestamp(x))\n",
    "\n",
    "df_comments.to_csv('./comments_scraped_previous/comments.csv')\n",
    "df_comments.head()"
   ]
  }
 ],
 "metadata": {
  "kernelspec": {
   "display_name": "Python 3 (ipykernel)",
   "language": "python",
   "name": "python3"
  },
  "language_info": {
   "codemirror_mode": {
    "name": "ipython",
    "version": 3
   },
   "file_extension": ".py",
   "mimetype": "text/x-python",
   "name": "python",
   "nbconvert_exporter": "python",
   "pygments_lexer": "ipython3",
   "version": "3.10.7"
  }
 },
 "nbformat": 4,
 "nbformat_minor": 5
}
