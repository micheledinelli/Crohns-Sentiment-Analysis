{
 "cells": [
  {
   "cell_type": "code",
   "execution_count": 1,
   "id": "a826d1be",
   "metadata": {},
   "outputs": [],
   "source": [
    "client_id=\"p2GJmNYPa7mBWQdpvYA0QA\"\n",
    "client_secret=\"8YWgOT1KnF-v53uwmqir-n_B43hVMA\"\n",
    "password=\"Redditscraper\"\n",
    "user_agent=\"crohn\"\n",
    "username=\"micheledinelli\""
   ]
  }
 ],
 "metadata": {
  "kernelspec": {
   "display_name": "Python 3 (ipykernel)",
   "language": "python",
   "name": "python3"
  },
  "language_info": {
   "codemirror_mode": {
    "name": "ipython",
    "version": 3
   },
   "file_extension": ".py",
   "mimetype": "text/x-python",
   "name": "python",
   "nbconvert_exporter": "python",
   "pygments_lexer": "ipython3",
   "version": "3.9.12"
  }
 },
 "nbformat": 4,
 "nbformat_minor": 5
}
