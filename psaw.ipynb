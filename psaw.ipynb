{
 "cells": [
  {
   "cell_type": "markdown",
   "id": "4c9368e2",
   "metadata": {},
   "source": [
    "### PSAW: Python Pushshift.io API Wrapper"
   ]
  },
  {
   "cell_type": "code",
   "execution_count": 1,
   "id": "fc1eb405",
   "metadata": {},
   "outputs": [
    {
     "name": "stdout",
     "output_type": "stream",
     "text": [
      "Requirement already satisfied: psaw in c:\\users\\mic\\anaconda3\\lib\\site-packages (0.1.0)\n",
      "Requirement already satisfied: requests in c:\\users\\mic\\anaconda3\\lib\\site-packages (from psaw) (2.27.1)\n",
      "Requirement already satisfied: Click in c:\\users\\mic\\anaconda3\\lib\\site-packages (from psaw) (8.0.4)\n",
      "Requirement already satisfied: colorama in c:\\users\\mic\\anaconda3\\lib\\site-packages (from Click->psaw) (0.4.4)\n",
      "Requirement already satisfied: certifi>=2017.4.17 in c:\\users\\mic\\anaconda3\\lib\\site-packages (from requests->psaw) (2021.10.8)\n",
      "Requirement already satisfied: urllib3<1.27,>=1.21.1 in c:\\users\\mic\\anaconda3\\lib\\site-packages (from requests->psaw) (1.26.9)\n",
      "Requirement already satisfied: charset-normalizer~=2.0.0 in c:\\users\\mic\\anaconda3\\lib\\site-packages (from requests->psaw) (2.0.4)\n",
      "Requirement already satisfied: idna<4,>=2.5 in c:\\users\\mic\\anaconda3\\lib\\site-packages (from requests->psaw) (3.3)\n",
      "Note: you may need to restart the kernel to use updated packages.\n"
     ]
    }
   ],
   "source": [
    "pip install psaw"
   ]
  },
  {
   "cell_type": "code",
   "execution_count": 2,
   "id": "24183fb6",
   "metadata": {},
   "outputs": [],
   "source": [
    "from psaw import PushshiftAPI\n",
    "import praw\n",
    "import datetime as dt\n",
    "import pandas as pd\n",
    "import numpy as np"
   ]
  },
  {
   "cell_type": "code",
   "execution_count": 3,
   "id": "f6aceb51",
   "metadata": {},
   "outputs": [],
   "source": [
    "api = PushshiftAPI()"
   ]
  },
  {
   "cell_type": "code",
   "execution_count": 4,
   "id": "ee1af1f5",
   "metadata": {},
   "outputs": [],
   "source": [
    "reddit = praw.Reddit(\n",
    "    client_id='', \n",
    "    client_secret='', \n",
    "    user_agent='',\n",
    "    username=\"\",\n",
    "    password=\"\")"
   ]
  },
  {
   "cell_type": "code",
   "execution_count": 5,
   "id": "de8eebdc",
   "metadata": {},
   "outputs": [],
   "source": [
    "def retrieve_ids_in_range(year, month, SR, verbose=True):\n",
    "    print(\"Scraping\", SR, \"for:\", year, \"-\", month, \"\\n\")\n",
    "    \n",
    "    DAY = 60*60*24 # seconds in a day\n",
    "    HOUR = 60*60 \n",
    "    \n",
    "    start=int(dt.datetime(year, month, 1).timestamp())\n",
    "    \n",
    "    if month < 12:\n",
    "        end=int(dt.datetime(year, month+1, 1).timestamp())\n",
    "    else: # if dec 2019\n",
    "        end=int(dt.datetime(2020, 1, 1).timestamp())\n",
    "        \n",
    "    start_epoch = start\n",
    "    end_epoch = start + DAY \n",
    "    ids = []\n",
    "    \n",
    "    while end_epoch <= end:\n",
    "        \n",
    "        res = list(api.search_submissions(\n",
    "                            after =start_epoch,\n",
    "                            before=end_epoch + HOUR, \n",
    "                            subreddit=SR,\n",
    "                            #filter=['url','author', 'title', 'subreddit'],\n",
    "                            limit=100))\n",
    "        #update epochs\n",
    "        start_epoch = end_epoch\n",
    "        end_epoch = start_epoch + DAY #60*60*24"
   ]
  },
  {
   "cell_type": "code",
   "execution_count": 6,
   "id": "230b4e72",
   "metadata": {},
   "outputs": [
    {
     "name": "stdout",
     "output_type": "stream",
     "text": [
      "Scraping CrohnsDisease for: 2021 - 10 \n",
      "\n"
     ]
    },
    {
     "name": "stderr",
     "output_type": "stream",
     "text": [
      "C:\\Users\\mic\\anaconda3\\lib\\site-packages\\psaw\\PushshiftAPI.py:192: UserWarning: Got non 200 code 521\n",
      "  warnings.warn(\"Got non 200 code %s\" % response.status_code)\n",
      "C:\\Users\\mic\\anaconda3\\lib\\site-packages\\psaw\\PushshiftAPI.py:180: UserWarning: Unable to connect to pushshift.io. Retrying after backoff.\n",
      "  warnings.warn(\"Unable to connect to pushshift.io. Retrying after backoff.\")\n"
     ]
    },
    {
     "ename": "KeyboardInterrupt",
     "evalue": "",
     "output_type": "error",
     "traceback": [
      "\u001b[1;31m---------------------------------------------------------------------------\u001b[0m",
      "\u001b[1;31mKeyboardInterrupt\u001b[0m                         Traceback (most recent call last)",
      "Input \u001b[1;32mIn [6]\u001b[0m, in \u001b[0;36m<cell line: 1>\u001b[1;34m()\u001b[0m\n\u001b[1;32m----> 1\u001b[0m ids \u001b[38;5;241m=\u001b[39m \u001b[43mretrieve_ids_in_range\u001b[49m\u001b[43m(\u001b[49m\u001b[43mmonth\u001b[49m\u001b[38;5;241;43m=\u001b[39;49m\u001b[38;5;241;43m10\u001b[39;49m\u001b[43m,\u001b[49m\u001b[43m \u001b[49m\u001b[43myear\u001b[49m\u001b[38;5;241;43m=\u001b[39;49m\u001b[38;5;241;43m2021\u001b[39;49m\u001b[43m,\u001b[49m\u001b[43mSR\u001b[49m\u001b[38;5;241;43m=\u001b[39;49m\u001b[38;5;124;43m\"\u001b[39;49m\u001b[38;5;124;43mCrohnsDisease\u001b[39;49m\u001b[38;5;124;43m\"\u001b[39;49m\u001b[43m)\u001b[49m\n",
      "Input \u001b[1;32mIn [5]\u001b[0m, in \u001b[0;36mretrieve_ids_in_range\u001b[1;34m(year, month, SR, verbose)\u001b[0m\n\u001b[0;32m     16\u001b[0m ids \u001b[38;5;241m=\u001b[39m []\n\u001b[0;32m     18\u001b[0m \u001b[38;5;28;01mwhile\u001b[39;00m end_epoch \u001b[38;5;241m<\u001b[39m\u001b[38;5;241m=\u001b[39m end:\n\u001b[1;32m---> 20\u001b[0m     res \u001b[38;5;241m=\u001b[39m \u001b[38;5;28;43mlist\u001b[39;49m\u001b[43m(\u001b[49m\u001b[43mapi\u001b[49m\u001b[38;5;241;43m.\u001b[39;49m\u001b[43msearch_submissions\u001b[49m\u001b[43m(\u001b[49m\n\u001b[0;32m     21\u001b[0m \u001b[43m                        \u001b[49m\u001b[43mafter\u001b[49m\u001b[43m \u001b[49m\u001b[38;5;241;43m=\u001b[39;49m\u001b[43mstart_epoch\u001b[49m\u001b[43m,\u001b[49m\n\u001b[0;32m     22\u001b[0m \u001b[43m                        \u001b[49m\u001b[43mbefore\u001b[49m\u001b[38;5;241;43m=\u001b[39;49m\u001b[43mend_epoch\u001b[49m\u001b[43m \u001b[49m\u001b[38;5;241;43m+\u001b[39;49m\u001b[43m \u001b[49m\u001b[43mHOUR\u001b[49m\u001b[43m,\u001b[49m\u001b[43m \u001b[49m\n\u001b[0;32m     23\u001b[0m \u001b[43m                        \u001b[49m\u001b[43msubreddit\u001b[49m\u001b[38;5;241;43m=\u001b[39;49m\u001b[43mSR\u001b[49m\u001b[43m,\u001b[49m\n\u001b[0;32m     24\u001b[0m \u001b[43m                        \u001b[49m\u001b[38;5;66;43;03m#filter=['url','author', 'title', 'subreddit'],\u001b[39;49;00m\n\u001b[0;32m     25\u001b[0m \u001b[43m                        \u001b[49m\u001b[43mlimit\u001b[49m\u001b[38;5;241;43m=\u001b[39;49m\u001b[38;5;241;43m100\u001b[39;49m\u001b[43m)\u001b[49m\u001b[43m)\u001b[49m\n\u001b[0;32m     26\u001b[0m     \u001b[38;5;66;03m#update epochs\u001b[39;00m\n\u001b[0;32m     27\u001b[0m     start_epoch \u001b[38;5;241m=\u001b[39m end_epoch\n",
      "File \u001b[1;32m~\\anaconda3\\lib\\site-packages\\psaw\\PushshiftAPI.py:238\u001b[0m, in \u001b[0;36mPushshiftAPIMinimal._search\u001b[1;34m(self, kind, stop_condition, return_batch, dataset, **kwargs)\u001b[0m\n\u001b[0;32m    236\u001b[0m endpoint \u001b[38;5;241m=\u001b[39m \u001b[38;5;124m'\u001b[39m\u001b[38;5;132;01m{dataset}\u001b[39;00m\u001b[38;5;124m/\u001b[39m\u001b[38;5;132;01m{kind}\u001b[39;00m\u001b[38;5;124m/search\u001b[39m\u001b[38;5;124m'\u001b[39m\u001b[38;5;241m.\u001b[39mformat(dataset\u001b[38;5;241m=\u001b[39mdataset, kind\u001b[38;5;241m=\u001b[39mkind)\n\u001b[0;32m    237\u001b[0m url \u001b[38;5;241m=\u001b[39m \u001b[38;5;28mself\u001b[39m\u001b[38;5;241m.\u001b[39mbase_url\u001b[38;5;241m.\u001b[39mformat(endpoint\u001b[38;5;241m=\u001b[39mendpoint)\n\u001b[1;32m--> 238\u001b[0m \u001b[38;5;28;01mfor\u001b[39;00m response \u001b[38;5;129;01min\u001b[39;00m \u001b[38;5;28mself\u001b[39m\u001b[38;5;241m.\u001b[39m_handle_paging(url):\n\u001b[0;32m    239\u001b[0m     \u001b[38;5;28;01mif\u001b[39;00m \u001b[38;5;124m'\u001b[39m\u001b[38;5;124maggs\u001b[39m\u001b[38;5;124m'\u001b[39m \u001b[38;5;129;01min\u001b[39;00m response:\n\u001b[0;32m    240\u001b[0m         \u001b[38;5;28;01myield\u001b[39;00m response[\u001b[38;5;124m'\u001b[39m\u001b[38;5;124maggs\u001b[39m\u001b[38;5;124m'\u001b[39m]\n",
      "File \u001b[1;32m~\\anaconda3\\lib\\site-packages\\psaw\\PushshiftAPI.py:215\u001b[0m, in \u001b[0;36mPushshiftAPIMinimal._handle_paging\u001b[1;34m(self, url)\u001b[0m\n\u001b[0;32m    212\u001b[0m         \u001b[38;5;28;01mraise\u001b[39;00m \u001b[38;5;167;01mNotImplementedError\u001b[39;00m(err_msg\u001b[38;5;241m.\u001b[39mformat(\u001b[38;5;28mself\u001b[39m\u001b[38;5;241m.\u001b[39mmax_results_per_request))\n\u001b[0;32m    213\u001b[0m \u001b[38;5;28mself\u001b[39m\u001b[38;5;241m.\u001b[39m_add_nec_args(\u001b[38;5;28mself\u001b[39m\u001b[38;5;241m.\u001b[39mpayload)\n\u001b[1;32m--> 215\u001b[0m data \u001b[38;5;241m=\u001b[39m \u001b[38;5;28;43mself\u001b[39;49m\u001b[38;5;241;43m.\u001b[39;49m\u001b[43m_get\u001b[49m\u001b[43m(\u001b[49m\u001b[43murl\u001b[49m\u001b[43m,\u001b[49m\u001b[43m \u001b[49m\u001b[38;5;28;43mself\u001b[39;49m\u001b[38;5;241;43m.\u001b[39;49m\u001b[43mpayload\u001b[49m\u001b[43m)\u001b[49m\n\u001b[0;32m    216\u001b[0m \u001b[38;5;28;01myield\u001b[39;00m data\n\u001b[0;32m    217\u001b[0m \u001b[38;5;28;01mif\u001b[39;00m limit \u001b[38;5;129;01mis\u001b[39;00m \u001b[38;5;129;01mnot\u001b[39;00m \u001b[38;5;28;01mNone\u001b[39;00m:\n",
      "File \u001b[1;32m~\\anaconda3\\lib\\site-packages\\psaw\\PushshiftAPI.py:181\u001b[0m, in \u001b[0;36mPushshiftAPIMinimal._get\u001b[1;34m(self, url, payload)\u001b[0m\n\u001b[0;32m    179\u001b[0m \u001b[38;5;28;01mif\u001b[39;00m i \u001b[38;5;241m>\u001b[39m \u001b[38;5;241m0\u001b[39m:\n\u001b[0;32m    180\u001b[0m     warnings\u001b[38;5;241m.\u001b[39mwarn(\u001b[38;5;124m\"\u001b[39m\u001b[38;5;124mUnable to connect to pushshift.io. Retrying after backoff.\u001b[39m\u001b[38;5;124m\"\u001b[39m)\n\u001b[1;32m--> 181\u001b[0m \u001b[38;5;28;43mself\u001b[39;49m\u001b[38;5;241;43m.\u001b[39;49m\u001b[43m_impose_rate_limit\u001b[49m\u001b[43m(\u001b[49m\u001b[43mi\u001b[49m\u001b[43m)\u001b[49m\n\u001b[0;32m    182\u001b[0m i\u001b[38;5;241m+\u001b[39m\u001b[38;5;241m=\u001b[39m\u001b[38;5;241m1\u001b[39m\n\u001b[0;32m    183\u001b[0m \u001b[38;5;28;01mtry\u001b[39;00m:\n",
      "File \u001b[1;32m~\\anaconda3\\lib\\site-packages\\psaw\\PushshiftAPI.py:151\u001b[0m, in \u001b[0;36mPushshiftAPIMinimal._impose_rate_limit\u001b[1;34m(self, nth_request)\u001b[0m\n\u001b[0;32m    149\u001b[0m \u001b[38;5;28;01mif\u001b[39;00m interval \u001b[38;5;241m>\u001b[39m \u001b[38;5;241m0\u001b[39m:\n\u001b[0;32m    150\u001b[0m     log\u001b[38;5;241m.\u001b[39mdebug(\u001b[38;5;124m\"\u001b[39m\u001b[38;5;124mImposing rate limit, sleeping for \u001b[39m\u001b[38;5;132;01m%s\u001b[39;00m\u001b[38;5;124m\"\u001b[39m \u001b[38;5;241m%\u001b[39m interval)\n\u001b[1;32m--> 151\u001b[0m     \u001b[43mtime\u001b[49m\u001b[38;5;241;43m.\u001b[39;49m\u001b[43msleep\u001b[49m\u001b[43m(\u001b[49m\u001b[43minterval\u001b[49m\u001b[43m)\u001b[49m\n",
      "\u001b[1;31mKeyboardInterrupt\u001b[0m: "
     ]
    }
   ],
   "source": [
    "ids = retrieve_ids_in_range(month=10, year=2021,SR=\"CrohnsDisease\")"
   ]
  },
  {
   "cell_type": "code",
   "execution_count": null,
   "id": "81a6ac29",
   "metadata": {},
   "outputs": [],
   "source": [
    "from psaw import PushshiftAPI\n",
    "\n",
    "api = PushshiftAPI()\n",
    "gen = api.search_submissions(limit=100)\n",
    "results = list(gen)"
   ]
  }
 ],
 "metadata": {
  "kernelspec": {
   "display_name": "Python 3 (ipykernel)",
   "language": "python",
   "name": "python3"
  },
  "language_info": {
   "codemirror_mode": {
    "name": "ipython",
    "version": 3
   },
   "file_extension": ".py",
   "mimetype": "text/x-python",
   "name": "python",
   "nbconvert_exporter": "python",
   "pygments_lexer": "ipython3",
   "version": "3.9.12"
  }
 },
 "nbformat": 4,
 "nbformat_minor": 5
}
