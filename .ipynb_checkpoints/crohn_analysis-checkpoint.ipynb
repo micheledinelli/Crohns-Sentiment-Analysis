{
 "cells": [
  {
   "cell_type": "code",
   "execution_count": 162,
   "id": "5e4fa0a3",
   "metadata": {},
   "outputs": [],
   "source": [
    "import math\n",
    "import praw\n",
    "import pandas as pd\n",
    "import numpy as np\n",
    "\n",
    "import matplotlib\n",
    "import matplotlib.pyplot as plt\n",
    "\n",
    "from IPython.display import display, Markdown, Latex\n",
    "from os import listdir\n",
    "from os.path import isfile, join\n",
    "from tqdm.notebook import tqdm,tnrange\n",
    "import pickle\n",
    "\n",
    "import csv\n",
    "import os\n",
    "\n",
    "from datetime import date, timedelta\n",
    "import seaborn as sns"
   ]
  },
  {
   "cell_type": "code",
   "execution_count": 132,
   "id": "5e27513b",
   "metadata": {},
   "outputs": [],
   "source": [
    "sns.set_style(\"whitegrid\")\n",
    "sns.set_context('notebook')"
   ]
  },
  {
   "cell_type": "code",
   "execution_count": 118,
   "id": "12e3552f",
   "metadata": {},
   "outputs": [],
   "source": [
    "subreddits = ['CrohnsDisease', 'UlcerativeColitis', 'IBD', 'ibs']"
   ]
  },
  {
   "cell_type": "code",
   "execution_count": 167,
   "id": "2117c557",
   "metadata": {},
   "outputs": [],
   "source": [
    "mypath = \"./submissions_scraped/\"\n",
    "files = [join(mypath, f) for f in listdir(mypath) if isfile(join(mypath, f))]\n",
    "\n",
    "subsmissions = []\n",
    "for fname in files:\n",
    "    csv = pd.read_csv(fname)\n",
    "    subsmissions.append(csv)\n",
    "    \n",
    "subsmissions = pd.concat(subsmissions)\n",
    "df = pd.DataFrame(subsmissions)\n",
    "df.drop(columns=['Unnamed: 0'], inplace=True)\n",
    "# df.dropna(inplace=True)"
   ]
  },
  {
   "cell_type": "markdown",
   "id": "98b343cb",
   "metadata": {},
   "source": [
    "### Analisi del Dataset"
   ]
  },
  {
   "cell_type": "code",
   "execution_count": 192,
   "id": "7d5f156c",
   "metadata": {},
   "outputs": [
    {
     "data": {
      "text/html": [
       "<div>\n",
       "<style scoped>\n",
       "    .dataframe tbody tr th:only-of-type {\n",
       "        vertical-align: middle;\n",
       "    }\n",
       "\n",
       "    .dataframe tbody tr th {\n",
       "        vertical-align: top;\n",
       "    }\n",
       "\n",
       "    .dataframe thead th {\n",
       "        text-align: right;\n",
       "    }\n",
       "</style>\n",
       "<table border=\"1\" class=\"dataframe\">\n",
       "  <thead>\n",
       "    <tr style=\"text-align: right;\">\n",
       "      <th></th>\n",
       "      <th>title</th>\n",
       "      <th>author</th>\n",
       "      <th>score</th>\n",
       "      <th>id</th>\n",
       "      <th>subreddit</th>\n",
       "      <th>url</th>\n",
       "      <th>num_comments</th>\n",
       "      <th>body</th>\n",
       "      <th>created</th>\n",
       "    </tr>\n",
       "  </thead>\n",
       "  <tbody>\n",
       "    <tr>\n",
       "      <th>25895</th>\n",
       "      <td>Dentist Appointment</td>\n",
       "      <td>Double_Cricket4846</td>\n",
       "      <td>3</td>\n",
       "      <td>tu2vmg</td>\n",
       "      <td>ibs</td>\n",
       "      <td>https://www.reddit.com/r/ibs/comments/tu2vmg/d...</td>\n",
       "      <td>0</td>\n",
       "      <td>I thought today would be a good day. I slept m...</td>\n",
       "      <td>2022-04-02 00:04:15</td>\n",
       "    </tr>\n",
       "    <tr>\n",
       "      <th>1167</th>\n",
       "      <td>Microcurrent Therapy: A New Tool for Managing ...</td>\n",
       "      <td>One_Succotash1455</td>\n",
       "      <td>1</td>\n",
       "      <td>mhjhwl</td>\n",
       "      <td>IBD</td>\n",
       "      <td>https://www.reddit.com/r/IBD/comments/mhjhwl/m...</td>\n",
       "      <td>0</td>\n",
       "      <td>[removed]</td>\n",
       "      <td>2021-04-01 02:23:16</td>\n",
       "    </tr>\n",
       "    <tr>\n",
       "      <th>5553</th>\n",
       "      <td>Did you have a CT scan when diagnosed? Did the...</td>\n",
       "      <td>Tweetybird2420</td>\n",
       "      <td>6</td>\n",
       "      <td>njerhx</td>\n",
       "      <td>UlcerativeColitis</td>\n",
       "      <td>https://www.reddit.com/r/UlcerativeColitis/com...</td>\n",
       "      <td>13</td>\n",
       "      <td>My doctor thought I might have given my sympto...</td>\n",
       "      <td>2021-05-23 21:12:15</td>\n",
       "    </tr>\n",
       "    <tr>\n",
       "      <th>18455</th>\n",
       "      <td>Maybe it's nothing to do with food (for me)</td>\n",
       "      <td>NaN</td>\n",
       "      <td>1</td>\n",
       "      <td>p9ghq1</td>\n",
       "      <td>ibs</td>\n",
       "      <td>NaN</td>\n",
       "      <td>2</td>\n",
       "      <td>[deleted]</td>\n",
       "      <td>2021-08-22 19:15:18</td>\n",
       "    </tr>\n",
       "    <tr>\n",
       "      <th>1150</th>\n",
       "      <td>Crohn's or Microscopic Colitis</td>\n",
       "      <td>MisterLamarr</td>\n",
       "      <td>6</td>\n",
       "      <td>mge4ev</td>\n",
       "      <td>IBD</td>\n",
       "      <td>https://www.reddit.com/r/IBD/comments/mge4ev/c...</td>\n",
       "      <td>13</td>\n",
       "      <td>I'm a 40 year old man. I had been suffering wi...</td>\n",
       "      <td>2021-03-30 13:47:21</td>\n",
       "    </tr>\n",
       "  </tbody>\n",
       "</table>\n",
       "</div>"
      ],
      "text/plain": [
       "                                                   title              author  \\\n",
       "25895                                Dentist Appointment  Double_Cricket4846   \n",
       "1167   Microcurrent Therapy: A New Tool for Managing ...   One_Succotash1455   \n",
       "5553   Did you have a CT scan when diagnosed? Did the...      Tweetybird2420   \n",
       "18455        Maybe it's nothing to do with food (for me)                 NaN   \n",
       "1150                      Crohn's or Microscopic Colitis        MisterLamarr   \n",
       "\n",
       "       score      id          subreddit  \\\n",
       "25895      3  tu2vmg                ibs   \n",
       "1167       1  mhjhwl                IBD   \n",
       "5553       6  njerhx  UlcerativeColitis   \n",
       "18455      1  p9ghq1                ibs   \n",
       "1150       6  mge4ev                IBD   \n",
       "\n",
       "                                                     url  num_comments  \\\n",
       "25895  https://www.reddit.com/r/ibs/comments/tu2vmg/d...             0   \n",
       "1167   https://www.reddit.com/r/IBD/comments/mhjhwl/m...             0   \n",
       "5553   https://www.reddit.com/r/UlcerativeColitis/com...            13   \n",
       "18455                                                NaN             2   \n",
       "1150   https://www.reddit.com/r/IBD/comments/mge4ev/c...            13   \n",
       "\n",
       "                                                    body              created  \n",
       "25895  I thought today would be a good day. I slept m...  2022-04-02 00:04:15  \n",
       "1167                                           [removed]  2021-04-01 02:23:16  \n",
       "5553   My doctor thought I might have given my sympto...  2021-05-23 21:12:15  \n",
       "18455                                          [deleted]  2021-08-22 19:15:18  \n",
       "1150   I'm a 40 year old man. I had been suffering wi...  2021-03-30 13:47:21  "
      ]
     },
     "execution_count": 192,
     "metadata": {},
     "output_type": "execute_result"
    }
   ],
   "source": [
    "df.sample(5)"
   ]
  },
  {
   "cell_type": "code",
   "execution_count": 193,
   "id": "1488f018",
   "metadata": {},
   "outputs": [
    {
     "name": "stdout",
     "output_type": "stream",
     "text": [
      "<class 'pandas.core.frame.DataFrame'>\n",
      "Int64Index: 78646 entries, 0 to 16679\n",
      "Data columns (total 9 columns):\n",
      " #   Column        Non-Null Count  Dtype \n",
      "---  ------        --------------  ----- \n",
      " 0   title         78646 non-null  object\n",
      " 1   author        56352 non-null  object\n",
      " 2   score         78646 non-null  int64 \n",
      " 3   id            78646 non-null  object\n",
      " 4   subreddit     78646 non-null  object\n",
      " 5   url           58580 non-null  object\n",
      " 6   num_comments  78646 non-null  int64 \n",
      " 7   body          69571 non-null  object\n",
      " 8   created       78646 non-null  object\n",
      "dtypes: int64(2), object(7)\n",
      "memory usage: 6.0+ MB\n"
     ]
    }
   ],
   "source": [
    "df.info()"
   ]
  },
  {
   "cell_type": "code",
   "execution_count": 236,
   "id": "61f056cc",
   "metadata": {},
   "outputs": [
    {
     "name": "stdout",
     "output_type": "stream",
     "text": [
      "TOTAL:\n",
      "\n",
      "Number of readble messages: 56352\n",
      "-Number of Submissions scraped: 78646\n",
      "-Number of Comments scraped: 696771\n",
      "\n",
      "Data for r/CrohnsDisease:\n",
      "\n",
      "Number of readble messages: 16217\n",
      "-Number of Submissions in r/CrohnsDisease: 21475\n",
      "-Number of Comments scraped: 0\n",
      "\n",
      "Data for r/UlcerativeColitis:\n",
      "\n",
      "Number of readble messages: 12915\n",
      "-Number of Submissions in r/UlcerativeColitis: 16680\n",
      "-Number of Comments scraped: 0\n",
      "\n",
      "Data for r/IBD:\n",
      "\n",
      "Number of readble messages: 2830\n",
      "-Number of Submissions in r/IBD: 3908\n",
      "-Number of Comments scraped: 0\n",
      "\n",
      "Data for r/ibs:\n",
      "\n",
      "Number of readble messages: 24390\n",
      "-Number of Submissions in r/ibs: 36583\n",
      "-Number of Comments scraped: 0\n"
     ]
    }
   ],
   "source": [
    "S = df[~df['num_comments'].isna()]\n",
    "C = df[df['num_comments'].isna()]\n",
    "\n",
    "print(\"TOTAL:\\n\")\n",
    "print(\"Number of readble messages:\", len(S.dropna(subset=[\"author\"])) + len(C.dropna(subset=[\"author\"])) )\n",
    "print(\"-Number of Submissions scraped:\", len(S))\n",
    "print(\"-Number of Comments scraped:\", df.num_comments.sum())\n",
    "\n",
    "for sr in subreddits:\n",
    "    print(\"\\nData for r/\"+sr+\":\\n\")\n",
    "    print(\"Number of readble messages:\", len(S[S.subreddit == sr].dropna(subset=[\"author\"])) + len(C[C.subreddit == sr].dropna(subset=[\"author\"])) )\n",
    "    print(\"-Number of Submissions in r/\"+sr+\":\", len(S[S.subreddit == sr]))\n",
    "    print(\"-Number of Comments scraped:\", len(C[C.subreddit == sr]))\n"
   ]
  },
  {
   "cell_type": "code",
   "execution_count": 235,
   "id": "c07df906",
   "metadata": {},
   "outputs": [
    {
     "data": {
      "text/plain": [
       "696771"
      ]
     },
     "execution_count": 235,
     "metadata": {},
     "output_type": "execute_result"
    }
   ],
   "source": [
    "C = df.num_comments\n",
    "C.sum()"
   ]
  },
  {
   "cell_type": "markdown",
   "id": "37a731ed",
   "metadata": {},
   "source": [
    "#### Numero totale di sumbissions"
   ]
  },
  {
   "cell_type": "code",
   "execution_count": 194,
   "id": "19e41a0f",
   "metadata": {},
   "outputs": [
    {
     "data": {
      "text/plain": [
       "78646"
      ]
     },
     "execution_count": 194,
     "metadata": {},
     "output_type": "execute_result"
    }
   ],
   "source": [
    "df.shape[0]"
   ]
  },
  {
   "cell_type": "markdown",
   "id": "3239578f",
   "metadata": {},
   "source": [
    "#### Distribuzione delle submissions per subreddit"
   ]
  },
  {
   "cell_type": "code",
   "execution_count": 199,
   "id": "654c1f8b",
   "metadata": {},
   "outputs": [
    {
     "data": {
      "text/plain": [
       "ibs                  36583\n",
       "CrohnsDisease        21475\n",
       "UlcerativeColitis    16680\n",
       "IBD                   3908\n",
       "Name: subreddit, dtype: int64"
      ]
     },
     "execution_count": 199,
     "metadata": {},
     "output_type": "execute_result"
    }
   ],
   "source": [
    "df.subreddit.value_counts()"
   ]
  },
  {
   "cell_type": "code",
   "execution_count": 195,
   "id": "a23ffaf5",
   "metadata": {},
   "outputs": [
    {
     "data": {
      "image/png": "[encoded data removed]",
      "text/plain": [
       "<Figure size 432x288 with 1 Axes>"
      ]
     },
     "metadata": {},
     "output_type": "display_data"
    }
   ],
   "source": [
    "plt.title('Subreddits submissions', fontweight='bold')\n",
    "sns.barplot(x=df.subreddit.value_counts().index, y=df.subreddit.value_counts())\n",
    "plt.show();"
   ]
  },
  {
   "cell_type": "markdown",
   "id": "f604d87f",
   "metadata": {},
   "source": [
    "#### Sumbissions senza corpo:"
   ]
  },
  {
   "cell_type": "code",
   "execution_count": 196,
   "id": "8aaa6cab",
   "metadata": {},
   "outputs": [
    {
     "data": {
      "text/plain": [
       "9075"
      ]
     },
     "execution_count": 196,
     "metadata": {},
     "output_type": "execute_result"
    }
   ],
   "source": [
    "len(df.body) - df.body.count()"
   ]
  },
  {
   "cell_type": "markdown",
   "id": "f55f0df2",
   "metadata": {},
   "source": [
    "#### Autori "
   ]
  },
  {
   "cell_type": "code",
   "execution_count": 197,
   "id": "404e43b7",
   "metadata": {},
   "outputs": [
    {
     "data": {
      "text/plain": [
       "24411"
      ]
     },
     "execution_count": 197,
     "metadata": {},
     "output_type": "execute_result"
    }
   ],
   "source": [
    "len(df.author.unique())"
   ]
  },
  {
   "cell_type": "markdown",
   "id": "3db9ae0a",
   "metadata": {},
   "source": [
    "#### Autori unici per subreddit"
   ]
  },
  {
   "cell_type": "code",
   "execution_count": 212,
   "id": "247b0093",
   "metadata": {},
   "outputs": [
    {
     "data": {
      "image/png": "[encoded data removed]",
      "text/plain": [
       "<Figure size 432x288 with 1 Axes>"
      ]
     },
     "metadata": {},
     "output_type": "display_data"
    }
   ],
   "source": [
    "unique_authors_crohnsdisease = len(df[df['subreddit'] == 'CrohnsDisease'].author.unique())\n",
    "unique_authors_ibs = len(df[df['subreddit'] == 'ibs'].author.unique())\n",
    "unique_authors_ulcerativecolitis = len(df[df['subreddit'] == 'UlcerativeColitis'].author.unique())\n",
    "unique_authors_IBD = len(df[df['subreddit'] == 'IBD'].author.unique())\n",
    "\n",
    "y = []\n",
    "y.extend([unique_authors_crohnsdisease, unique_authors_ibs, unique_authors_ulcerativecolitis, unique_authors_IBD])\n",
    "\n",
    "\n",
    "plt.title('Unique authors per subreddits', fontweight='bold')\n",
    "sns.barplot(x=df.subreddit.value_counts().index, y=y)\n",
    "plt.show();"
   ]
  },
  {
   "cell_type": "code",
   "execution_count": 239,
   "id": "15dfbebe",
   "metadata": {},
   "outputs": [
    {
     "data": {
      "image/png": "[encoded data removed]",
      "text/plain": [
       "<Figure size 432x288 with 1 Axes>"
      ]
     },
     "metadata": {},
     "output_type": "display_data"
    }
   ],
   "source": [
    "plt.title('Total comments per subreddit', fontweight='bold')\n",
    "sns.barplot(x=df.subreddit.value_counts().index, y=df.groupby('subreddit').num_comments.sum())\n",
    "plt.show();"
   ]
  },
  {
   "cell_type": "code",
   "execution_count": null,
   "id": "d93876a2",
   "metadata": {},
   "outputs": [],
   "source": [
    "sns.lineplot(x = 'created', y = 'author', data = df)\n",
    "plt.show();"
   ]
  }
 ],
 "metadata": {
  "kernelspec": {
   "display_name": "Python 3 (ipykernel)",
   "language": "python",
   "name": "python3"
  },
  "language_info": {
   "codemirror_mode": {
    "name": "ipython",
    "version": 3
   },
   "file_extension": ".py",
   "mimetype": "text/x-python",
   "name": "python",
   "nbconvert_exporter": "python",
   "pygments_lexer": "ipython3",
   "version": "3.9.12"
  }
 },
 "nbformat": 4,
 "nbformat_minor": 5
}
