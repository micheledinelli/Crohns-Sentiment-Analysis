{
 "cells": [
  {
   "cell_type": "code",
   "execution_count": 14,
   "id": "f9fcfa57",
   "metadata": {},
   "outputs": [],
   "source": [
    "import praw\n",
    "from psaw import PushshiftAPI\n",
    "\n",
    "import datetime as dt\n",
    "\n",
    "import pandas as pd\n",
    "import numpy as np\n",
    "from IPython.display import display, Markdown, Latex\n",
    "\n",
    "from os import listdir\n",
    "from os.path import isfile, join\n",
    "import csv\n",
    "\n",
    "from tqdm.notebook import tqdm,tnrange\n",
    "import pickle\n",
    "\n",
    "import matplotlib.pyplot as plt\n",
    "import seaborn as sns"
   ]
  },
  {
   "cell_type": "code",
   "execution_count": 15,
   "id": "1e6ecda1",
   "metadata": {},
   "outputs": [
    {
     "data": {
      "text/plain": [
       "Redditor(name='micheledinelli')"
      ]
     },
     "execution_count": 15,
     "metadata": {},
     "output_type": "execute_result"
    }
   ],
   "source": [
    "import import_ipynb\n",
    "from reddit_access import client_id, client_secret, password, user_agent, username\n",
    "\n",
    "#PSAW TO RETRIEVE IDs OF SUBMISSIONS\n",
    "api = PushshiftAPI()\n",
    "\n",
    "#PRAW TO RETRIEVE ACTUAL CONVERSATIONS\n",
    "reddit = praw.Reddit(client_id=client_id, \n",
    "                     client_secret=client_secret,\n",
    "                     password=password, \n",
    "                     user_agent=user_agent,\n",
    "                     username=username)\n",
    "\n",
    "reddit.user.me()"
   ]
  },
  {
   "cell_type": "code",
   "execution_count": 16,
   "id": "24deea73",
   "metadata": {},
   "outputs": [],
   "source": [
    "all_ids = pd.read_csv('all_ids_previous.csv')\n",
    "all_ids.drop(columns=['Unnamed: 0'], inplace=True)\n",
    "all_ids.dropna(inplace=True)"
   ]
  },
  {
   "cell_type": "code",
   "execution_count": null,
   "id": "bdd4144d",
   "metadata": {},
   "outputs": [
    {
     "data": {
      "application/vnd.jupyter.widget-view+json": {
       "model_id": "4e46646d0e8c48b1ad87ea6d53cb339e",
       "version_major": 2,
       "version_minor": 0
      },
      "text/plain": [
       "Loading comments:   0%|          | 0/40837 [00:00<?, ?it/s]"
      ]
     },
     "metadata": {},
     "output_type": "display_data"
    }
   ],
   "source": [
    "comments = []\n",
    "for id in tqdm (all_ids['id'], desc=\"Loading comments\"):\n",
    "    if id != str(0):\n",
    "        post = reddit.submission(id)\n",
    "        for comment in post.comments:\n",
    "            comments.append([comment.parent_id, comment.author, comment.score, comment.id, comment.subreddit, comment.body, comment.created])"
   ]
  },
  {
   "cell_type": "code",
   "execution_count": null,
   "id": "0e36dc17",
   "metadata": {},
   "outputs": [],
   "source": [
    "df_comments = pd.DataFrame(comments, columns=['parent_id', 'author', 'score', 'id', 'subreddit', 'body', 'created'])\n",
    "\n",
    "df_comments['created'] = df_comments['created'].apply(lambda x : dt.datetime.fromtimestamp(x))\n",
    "\n",
    "df_comments.to_csv('./comments_scraped_previous/comments.csv')\n",
    "df_comments.head()"
   ]
  }
 ],
 "metadata": {
  "kernelspec": {
   "display_name": "Python 3 (ipykernel)",
   "language": "python",
   "name": "python3"
  },
  "language_info": {
   "codemirror_mode": {
    "name": "ipython",
    "version": 3
   },
   "file_extension": ".py",
   "mimetype": "text/x-python",
   "name": "python",
   "nbconvert_exporter": "python",
   "pygments_lexer": "ipython3",
   "version": "3.10.7"
  }
 },
 "nbformat": 4,
 "nbformat_minor": 5
}
