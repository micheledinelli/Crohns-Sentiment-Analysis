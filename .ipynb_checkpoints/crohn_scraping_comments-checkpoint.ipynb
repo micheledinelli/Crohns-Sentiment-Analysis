{
 "cells": [
  {
   "cell_type": "code",
   "execution_count": 2,
   "id": "bffb3a89",
   "metadata": {},
   "outputs": [],
   "source": [
    "import praw\n",
    "from psaw import PushshiftAPI\n",
    "\n",
    "import datetime as dt\n",
    "\n",
    "import pandas as pd\n",
    "import numpy as np\n",
    "from IPython.display import display, Markdown, Latex\n",
    "\n",
    "from os import listdir\n",
    "from os.path import isfile, join\n",
    "import csv\n",
    "\n",
    "from tqdm.notebook import tqdm,tnrange\n",
    "import pickle\n",
    "\n",
    "import nltk\n",
    "from nltk.sentiment.vader import SentimentIntensityAnalyzer as SIA\n",
    "\n",
    "import matplotlib.pyplot as plt\n",
    "import seaborn as sns\n",
    "\n",
    "from wordcloud import WordCloud, STOPWORDS"
   ]
  },
  {
   "cell_type": "code",
   "execution_count": 6,
   "id": "dcf6c678",
   "metadata": {},
   "outputs": [],
   "source": [
    "#PSAW TO RETRIEVE IDs OF SUBMISSIONS\n",
    "api = PushshiftAPI()\n",
    "\n",
    "#PRAW TO RETRIEVE ACTUAL CONVERSATIONS\n",
    "reddit = praw.Reddit(client_id=\"p2GJmNYPa7mBWQdpvYA0QA\", \n",
    "                     client_secret=\"8YWgOT1KnF-v53uwmqir-n_B43hVMA\",\n",
    "                     password=\"Redditscraper\", \n",
    "                     user_agent=\"crohn\",\n",
    "                     username=\"micheledinelli\")\n"
   ]
  },
  {
   "cell_type": "code",
   "execution_count": 3,
   "id": "41e6c683",
   "metadata": {},
   "outputs": [],
   "source": [
    "mypath = \"./submissions/\"\n",
    "files = [join(mypath, f) for f in listdir(mypath) if isfile(join(mypath, f))]\n",
    "\n",
    "merged_file = []\n",
    "for filename in files:\n",
    "    with open(filename, 'r') as csv_file:\n",
    "        file = csv.reader(csv_file)\n",
    "        for row in file:\n",
    "            merged_file.append(row)\n",
    "            \n",
    "merged_df = pd.DataFrame(merged_file, columns=['index', 'id'])\n",
    "merged_df.drop(columns=['index'], inplace=True)\n",
    "merged_df.to_csv('all_ids.csv')"
   ]
  },
  {
   "cell_type": "code",
   "execution_count": 5,
   "id": "c9a9a4cb",
   "metadata": {},
   "outputs": [],
   "source": [
    "all_ids = pd.read_csv('all_ids.csv')\n",
    "all_ids.dropna(inplace=True)"
   ]
  },
  {
   "cell_type": "code",
   "execution_count": null,
   "id": "96e12af4",
   "metadata": {},
   "outputs": [],
   "source": [
    "comments = []\n",
    "for id in all_ids['id'][1:10]:\n",
    "    if id != str(0):\n",
    "        post = reddit.submission(id)\n",
    "        for comment in post.comments:\n",
    "            comments.append([comment.parent_id, comment.score, comment.id, comment.subreddit, comment.body, comment.created])"
   ]
  },
  {
   "cell_type": "code",
   "execution_count": 16,
   "id": "85b7878e",
   "metadata": {},
   "outputs": [
    {
     "data": {
      "text/plain": [
       "<praw.models.comment_forest.CommentForest at 0x1dabacceac0>"
      ]
     },
     "execution_count": 16,
     "metadata": {},
     "output_type": "execute_result"
    }
   ],
   "source": [
    "comments"
   ]
  }
 ],
 "metadata": {
  "kernelspec": {
   "display_name": "Python 3 (ipykernel)",
   "language": "python",
   "name": "python3"
  },
  "language_info": {
   "codemirror_mode": {
    "name": "ipython",
    "version": 3
   },
   "file_extension": ".py",
   "mimetype": "text/x-python",
   "name": "python",
   "nbconvert_exporter": "python",
   "pygments_lexer": "ipython3",
   "version": "3.9.12"
  }
 },
 "nbformat": 4,
 "nbformat_minor": 5
}
