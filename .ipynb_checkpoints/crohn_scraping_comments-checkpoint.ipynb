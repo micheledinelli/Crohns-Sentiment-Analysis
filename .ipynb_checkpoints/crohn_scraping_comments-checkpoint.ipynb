{
 "cells": [
  {
   "cell_type": "code",
   "execution_count": 1,
   "id": "bffb3a89",
   "metadata": {},
   "outputs": [],
   "source": [
    "import praw\n",
    "from psaw import PushshiftAPI\n",
    "\n",
    "import datetime as dt\n",
    "\n",
    "import pandas as pd\n",
    "import numpy as np\n",
    "from IPython.display import display, Markdown, Latex\n",
    "\n",
    "from os import listdir\n",
    "from os.path import isfile, join\n",
    "import csv\n",
    "\n",
    "from tqdm.notebook import tqdm,tnrange\n",
    "import pickle\n",
    "\n",
    "import nltk\n",
    "from nltk.sentiment.vader import SentimentIntensityAnalyzer as SIA\n",
    "\n",
    "import matplotlib.pyplot as plt\n",
    "import seaborn as sns\n",
    "\n",
    "from wordcloud import WordCloud, STOPWORDS"
   ]
  },
  {
   "cell_type": "code",
   "execution_count": 3,
   "id": "dcf6c678",
   "metadata": {},
   "outputs": [
    {
     "data": {
      "text/plain": [
       "Redditor(name='micheledinelli')"
      ]
     },
     "execution_count": 3,
     "metadata": {},
     "output_type": "execute_result"
    }
   ],
   "source": [
    "import import_ipynb\n",
    "from reddit_access import client_id, client_secret, password, user_agent, username\n",
    "\n",
    "#PSAW TO RETRIEVE IDs OF SUBMISSIONS\n",
    "api = PushshiftAPI()\n",
    "\n",
    "#PRAW TO RETRIEVE ACTUAL CONVERSATIONS\n",
    "reddit = praw.Reddit(client_id=client_id, \n",
    "                     client_secret=client_secret,\n",
    "                     password=password, \n",
    "                     user_agent=user_agent,\n",
    "                     username=username)\n",
    "\n",
    "reddit.user.me()"
   ]
  },
  {
   "cell_type": "code",
   "execution_count": 23,
   "id": "41e6c683",
   "metadata": {},
   "outputs": [],
   "source": [
    "mypath = \"./submissions/\"\n",
    "files = [join(mypath, f) for f in listdir(mypath) if isfile(join(mypath, f))]\n",
    "\n",
    "merged_file = []\n",
    "for filename in files:\n",
    "    with open(filename, 'r') as csv_file:\n",
    "        file = csv.reader(csv_file)\n",
    "        for row in file:\n",
    "            merged_file.append(row)\n",
    "            \n",
    "merged_df = pd.DataFrame(merged_file, columns=['index', 'id'])\n",
    "merged_df.drop(columns=['index'], inplace=True)\n",
    "merged_df.to_csv('all_ids.csv')"
   ]
  },
  {
   "cell_type": "code",
   "execution_count": 24,
   "id": "c9a9a4cb",
   "metadata": {},
   "outputs": [],
   "source": [
    "all_ids = pd.read_csv('all_ids.csv')\n",
    "all_ids.dropna(inplace=True)"
   ]
  },
  {
   "cell_type": "code",
   "execution_count": null,
   "id": "96e12af4",
   "metadata": {},
   "outputs": [
    {
     "data": {
      "application/vnd.jupyter.widget-view+json": {
       "model_id": "241fd6c6ea1149acacbedf6f459edaaf",
       "version_major": 2,
       "version_minor": 0
      },
      "text/plain": [
       "Loading comments:   0%|          | 0/78851 [00:00<?, ?it/s]"
      ]
     },
     "metadata": {},
     "output_type": "display_data"
    }
   ],
   "source": [
    "comments = []\n",
    "for id in tqdm (all_ids['id'], desc=\"Loading comments\"):\n",
    "    if id != str(0):\n",
    "        post = reddit.submission(id)\n",
    "        for comment in post.comments:\n",
    "            comments.append([comment.parent_id, comment.author, comment.score, comment.id, comment.subreddit, comment.body, comment.created])"
   ]
  },
  {
   "cell_type": "code",
   "execution_count": 55,
   "id": "74023c03",
   "metadata": {},
   "outputs": [
    {
     "data": {
      "text/html": [
       "<div>\n",
       "<style scoped>\n",
       "    .dataframe tbody tr th:only-of-type {\n",
       "        vertical-align: middle;\n",
       "    }\n",
       "\n",
       "    .dataframe tbody tr th {\n",
       "        vertical-align: top;\n",
       "    }\n",
       "\n",
       "    .dataframe thead th {\n",
       "        text-align: right;\n",
       "    }\n",
       "</style>\n",
       "<table border=\"1\" class=\"dataframe\">\n",
       "  <thead>\n",
       "    <tr style=\"text-align: right;\">\n",
       "      <th></th>\n",
       "      <th>parent_id</th>\n",
       "      <th>author</th>\n",
       "      <th>score</th>\n",
       "      <th>id</th>\n",
       "      <th>subreddit</th>\n",
       "      <th>body</th>\n",
       "      <th>created</th>\n",
       "    </tr>\n",
       "  </thead>\n",
       "  <tbody>\n",
       "    <tr>\n",
       "      <th>0</th>\n",
       "      <td>t3_k4xgh0</td>\n",
       "      <td>biljardbal</td>\n",
       "      <td>6</td>\n",
       "      <td>gebmqwv</td>\n",
       "      <td>CrohnsDisease</td>\n",
       "      <td>I tried to make one like this, but it seems th...</td>\n",
       "      <td>2020-12-02 02:32:38</td>\n",
       "    </tr>\n",
       "    <tr>\n",
       "      <th>1</th>\n",
       "      <td>t3_k4xgh0</td>\n",
       "      <td>loonalady</td>\n",
       "      <td>6</td>\n",
       "      <td>geboap0</td>\n",
       "      <td>CrohnsDisease</td>\n",
       "      <td>Confused why people are downvoting, is this of...</td>\n",
       "      <td>2020-12-02 02:47:01</td>\n",
       "    </tr>\n",
       "    <tr>\n",
       "      <th>2</th>\n",
       "      <td>t3_k4x6p1</td>\n",
       "      <td>cheetoPalmer</td>\n",
       "      <td>2</td>\n",
       "      <td>gebfaos</td>\n",
       "      <td>CrohnsDisease</td>\n",
       "      <td>When I’m in the thick of it, the only thing I’...</td>\n",
       "      <td>2020-12-02 01:23:34</td>\n",
       "    </tr>\n",
       "    <tr>\n",
       "      <th>3</th>\n",
       "      <td>t3_k4x6p1</td>\n",
       "      <td>forestcall</td>\n",
       "      <td>2</td>\n",
       "      <td>gedv0qx</td>\n",
       "      <td>CrohnsDisease</td>\n",
       "      <td>What works well for me is superfood chocolate ...</td>\n",
       "      <td>2020-12-02 17:34:45</td>\n",
       "    </tr>\n",
       "    <tr>\n",
       "      <th>4</th>\n",
       "      <td>t3_k4w6h7</td>\n",
       "      <td>thesch</td>\n",
       "      <td>9</td>\n",
       "      <td>geb54qt</td>\n",
       "      <td>CrohnsDisease</td>\n",
       "      <td>My doc is the opposite problem where when I as...</td>\n",
       "      <td>2020-12-01 23:52:43</td>\n",
       "    </tr>\n",
       "  </tbody>\n",
       "</table>\n",
       "</div>"
      ],
      "text/plain": [
       "   parent_id        author  score       id      subreddit  \\\n",
       "0  t3_k4xgh0    biljardbal      6  gebmqwv  CrohnsDisease   \n",
       "1  t3_k4xgh0     loonalady      6  geboap0  CrohnsDisease   \n",
       "2  t3_k4x6p1  cheetoPalmer      2  gebfaos  CrohnsDisease   \n",
       "3  t3_k4x6p1    forestcall      2  gedv0qx  CrohnsDisease   \n",
       "4  t3_k4w6h7        thesch      9  geb54qt  CrohnsDisease   \n",
       "\n",
       "                                                body             created  \n",
       "0  I tried to make one like this, but it seems th... 2020-12-02 02:32:38  \n",
       "1  Confused why people are downvoting, is this of... 2020-12-02 02:47:01  \n",
       "2  When I’m in the thick of it, the only thing I’... 2020-12-02 01:23:34  \n",
       "3  What works well for me is superfood chocolate ... 2020-12-02 17:34:45  \n",
       "4  My doc is the opposite problem where when I as... 2020-12-01 23:52:43  "
      ]
     },
     "execution_count": 55,
     "metadata": {},
     "output_type": "execute_result"
    }
   ],
   "source": [
    "df_comments = pd.DataFrame(comments, columns=['parent_id', 'author', 'score', 'id', 'subreddit', 'body', 'created'])\n",
    "\n",
    "df_comments['created'] = df_comments['created'].apply(lambda x : dt.datetime.fromtimestamp(x))\n",
    "\n",
    "df_comments.to_csv('./comments_scraped/comments.csv')\n",
    "df_comments.head()"
   ]
  },
  {
   "cell_type": "code",
   "execution_count": 49,
   "id": "2054094d",
   "metadata": {},
   "outputs": [
    {
     "data": {
      "text/plain": [
       "(24, 7)"
      ]
     },
     "execution_count": 49,
     "metadata": {},
     "output_type": "execute_result"
    }
   ],
   "source": [
    "df_comments.shape"
   ]
  }
 ],
 "metadata": {
  "kernelspec": {
   "display_name": "Python 3 (ipykernel)",
   "language": "python",
   "name": "python3"
  },
  "language_info": {
   "codemirror_mode": {
    "name": "ipython",
    "version": 3
   },
   "file_extension": ".py",
   "mimetype": "text/x-python",
   "name": "python",
   "nbconvert_exporter": "python",
   "pygments_lexer": "ipython3",
   "version": "3.9.12"
  }
 },
 "nbformat": 4,
 "nbformat_minor": 5
}
